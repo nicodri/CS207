{
 "cells": [
  {
   "cell_type": "markdown",
   "metadata": {
    "collapsed": true
   },
   "source": [
    "## Q1.\n",
    "\n",
    "Add methods `__iter__` to your project Time Series class to iterate over values, a method `itertimes` to iterate over times, a method `itervalues` to iterate over values, and a method `iteritems` to iterate over time-value pairs. (This is a similar interface to python dictionaries). To test these, check both the types of the results and the answers you expect."
   ]
  },
  {
   "cell_type": "code",
   "execution_count": 1,
   "metadata": {
    "collapsed": true
   },
   "outputs": [],
   "source": [
    "# Here are the implemented functions (do not run this cell its just display them)\n",
    "def __iter__(self):\n",
    "    '''\n",
    "    Iterates over the values array.\n",
    "    '''\n",
    "    for v in self.__valuesseq:\n",
    "        yield v\n",
    "\n",
    "def itervalues(self):\n",
    "    '''\n",
    "    Iterates over the values array.\n",
    "    '''\n",
    "    for v in self.__valuesseq:\n",
    "        yield v\n",
    "\n",
    "def itertimes(self):\n",
    "    '''\n",
    "    Iterates over the times array.\n",
    "    '''\n",
    "    for t in self.__timesseq:\n",
    "        yield t\n",
    "\n",
    "def iteritems(self):\n",
    "    '''\n",
    "    Iterates over the time-values pairs.\n",
    "    '''\n",
    "    for t, v in zip(self.__timesseq, self.__valuesseq):\n",
    "        yield t, v"
   ]
  },
  {
   "cell_type": "code",
   "execution_count": 6,
   "metadata": {
    "collapsed": false
   },
   "outputs": [
    {
     "name": "stdout",
     "output_type": "stream",
     "text": [
      "End\n",
      "<class 'method'>\n",
      "<class 'generator'>\n"
     ]
    }
   ],
   "source": [
    "## Here I actually load the whole code of the TimeSeries to test the method\n",
    "from TimeSeries import *\n",
    "\n",
    "t = [1, 1.5, 2, 2.5, 10]\n",
    "v = [0, 2, -1, 0.5, 0]\n",
    "a = TimeSeries(t, v)\n",
    "\n",
    "# Code to test the functions\n",
    "for i, (time, val) in enumerate(a.iteritems()):\n",
    "    if val != v[i] or time != t[i]:\n",
    "        print (1)\n",
    "        print('Error')\n",
    "for i, val in enumerate(a.itervalues()):\n",
    "    if val != v[i]:\n",
    "        print (2)\n",
    "        print('Error')\n",
    "for i, time in enumerate(a.itertimes()):\n",
    "    if time != t[i]:\n",
    "        print (3)\n",
    "        print('Error')\n",
    "print('End')\n",
    "\n",
    "# Printing the type\n",
    "g = a.iteritems\n",
    "print(type(g))\n",
    "\n",
    "g = a.iteritems()\n",
    "print(type(g))"
   ]
  },
  {
   "cell_type": "markdown",
   "metadata": {},
   "source": [
    "## Q2.\n",
    "\n",
    "An online mean and standard deviation algorithm.\n",
    "\n",
    "Below is a function to generate a potentially infinite stream of 1-D data."
   ]
  },
  {
   "cell_type": "code",
   "execution_count": 7,
   "metadata": {
    "collapsed": false
   },
   "outputs": [],
   "source": [
    "from random import normalvariate, random\n",
    "from itertools import count\n",
    "def make_data(m, stop=None):\n",
    "    for _ in count():\n",
    "        if stop and _ > stop:\n",
    "            break\n",
    "        yield 1.0e09 + normalvariate(0, m*random() )\n",
    "        "
   ]
  },
  {
   "cell_type": "markdown",
   "metadata": {},
   "source": [
    "Here is an implementation of an online mean algorithm..see http://www.johndcook.com/blog/standard_deviation/ and the link to http://www.johndcook.com/blog/2008/09/26/comparing-three-methods-of-computing-standard-deviation/ in-between. (Convince yourselves of the formulas...)"
   ]
  },
  {
   "cell_type": "code",
   "execution_count": 8,
   "metadata": {
    "collapsed": true
   },
   "outputs": [],
   "source": [
    "def online_mean(iterator):\n",
    "    n = 0\n",
    "    mu = 0\n",
    "    for value in iterator:\n",
    "        n += 1\n",
    "        delta = value - mu\n",
    "        mu = mu + delta/n\n",
    "        yield mu"
   ]
  },
  {
   "cell_type": "markdown",
   "metadata": {},
   "source": [
    "We use out generator functions to implement iterators:"
   ]
  },
  {
   "cell_type": "code",
   "execution_count": 9,
   "metadata": {
    "collapsed": false
   },
   "outputs": [
    {
     "data": {
      "text/plain": [
       "[999999999.995431,\n",
       " 999999999.9470448,\n",
       " 999999999.778061,\n",
       " 999999997.5218283,\n",
       " 999999998.9603794,\n",
       " 999999994.7023511,\n",
       " 999999998.002206,\n",
       " 999999999.1778877,\n",
       " 999999999.3969271,\n",
       " 999999998.2413033,\n",
       " 999999998.368192]"
      ]
     },
     "execution_count": 9,
     "metadata": {},
     "output_type": "execute_result"
    }
   ],
   "source": [
    "g = make_data(5, 10)\n",
    "list(g)"
   ]
  },
  {
   "cell_type": "code",
   "execution_count": 10,
   "metadata": {
    "collapsed": false
   },
   "outputs": [
    {
     "name": "stdout",
     "output_type": "stream",
     "text": [
      "<class 'generator'>\n"
     ]
    },
    {
     "data": {
      "text/plain": [
       "[1000000001.0477523,\n",
       " 1000000001.0286164,\n",
       " 1000000000.7144996,\n",
       " 1000000000.7875578,\n",
       " 1000000002.3600934,\n",
       " 1000000001.9240913,\n",
       " 1000000001.620048,\n",
       " 1000000001.8452237,\n",
       " 1000000001.6458359,\n",
       " 1000000001.440747,\n",
       " 1000000000.9777843,\n",
       " 1000000000.9266909,\n",
       " 1000000000.710156,\n",
       " 1000000000.7129315,\n",
       " 1000000000.0639359,\n",
       " 1000000000.0579381,\n",
       " 1000000000.0560158,\n",
       " 1000000000.1248308,\n",
       " 1000000000.1344175,\n",
       " 1000000000.0792112,\n",
       " 1000000000.2031066,\n",
       " 1000000000.2927188,\n",
       " 1000000000.2693704,\n",
       " 999999999.9542898,\n",
       " 999999999.7834502,\n",
       " 999999999.8451707,\n",
       " 999999999.8509403,\n",
       " 999999999.8175237,\n",
       " 999999999.8477006,\n",
       " 999999999.8256712,\n",
       " 999999999.8629816,\n",
       " 999999999.8920956,\n",
       " 999999999.8305558,\n",
       " 999999999.9381583,\n",
       " 1000000000.042073,\n",
       " 999999999.9627552,\n",
       " 999999999.966428,\n",
       " 999999999.9769671,\n",
       " 1000000000.0357424,\n",
       " 999999999.9869195,\n",
       " 999999999.9128344,\n",
       " 999999999.8475776,\n",
       " 999999999.7948087,\n",
       " 999999999.8143799,\n",
       " 999999999.8856555,\n",
       " 999999999.8202951,\n",
       " 999999999.8495612,\n",
       " 1000000000.1089202,\n",
       " 1000000000.0703547,\n",
       " 1000000000.0583571,\n",
       " 1000000000.0672271,\n",
       " 1000000000.0279149,\n",
       " 1000000000.0304154,\n",
       " 1000000000.1099297,\n",
       " 1000000000.1442534,\n",
       " 1000000000.1535587,\n",
       " 1000000000.1503767,\n",
       " 1000000000.116077,\n",
       " 1000000000.1741107,\n",
       " 1000000000.1528287,\n",
       " 1000000000.1505101,\n",
       " 1000000000.1467227,\n",
       " 1000000000.1593999,\n",
       " 1000000000.1254661,\n",
       " 1000000000.1776617,\n",
       " 1000000000.2418945,\n",
       " 1000000000.2126719,\n",
       " 1000000000.1734012,\n",
       " 1000000000.208382,\n",
       " 1000000000.2087334,\n",
       " 1000000000.2040612,\n",
       " 1000000000.2371727,\n",
       " 1000000000.2991645,\n",
       " 1000000000.3362967,\n",
       " 1000000000.3435804,\n",
       " 1000000000.3374695,\n",
       " 1000000000.3667669,\n",
       " 1000000000.361817,\n",
       " 1000000000.3799835,\n",
       " 1000000000.3675512,\n",
       " 1000000000.3479289,\n",
       " 1000000000.3369623,\n",
       " 1000000000.3642907,\n",
       " 1000000000.38786,\n",
       " 1000000000.3898834,\n",
       " 1000000000.3890982,\n",
       " 1000000000.4573437,\n",
       " 1000000000.5235593,\n",
       " 1000000000.5017778,\n",
       " 1000000000.5071892,\n",
       " 1000000000.5931914,\n",
       " 1000000000.5927156,\n",
       " 1000000000.5658636,\n",
       " 1000000000.5630219,\n",
       " 1000000000.5596797,\n",
       " 1000000000.5508455,\n",
       " 1000000000.5632786,\n",
       " 1000000000.55011,\n",
       " 1000000000.529211,\n",
       " 1000000000.5312626,\n",
       " 1000000000.5643173]"
      ]
     },
     "execution_count": 10,
     "metadata": {},
     "output_type": "execute_result"
    }
   ],
   "source": [
    "g = online_mean(make_data(5, 100))\n",
    "print(type(g))\n",
    "list(g)"
   ]
  },
  {
   "cell_type": "markdown",
   "metadata": {},
   "source": [
    "### 2.1\n",
    "\n",
    "Implement the standard deviation algorithm as a generator function as\n",
    "\n",
    "```python\n",
    "def online_mean_dev(iterator):\n",
    "    BLA BLA\n",
    "    if n > 1:\n",
    "        stddev = math.sqrt(dev_accum/(n-1))\n",
    "        yield (n, value, mu, stddev)\n",
    "```"
   ]
  },
  {
   "cell_type": "code",
   "execution_count": 16,
   "metadata": {
    "collapsed": false
   },
   "outputs": [],
   "source": [
    "import math\n",
    "\n",
    "# your code here\n",
    "def online_mean_dev(iterator):\n",
    "    dev_accum = 0\n",
    "    mu = 0\n",
    "    n = 0\n",
    "    for value in iterator:\n",
    "        n += 1\n",
    "        mu_new = mu + (value - mu)/n\n",
    "        dev_accum = dev_accum + (value - mu)*(value - mu_new)\n",
    "        mu = mu_new\n",
    "        if n > 1:\n",
    "            stddev = math.sqrt(dev_accum/(n-1))\n",
    "            yield (n, value, mu, stddev)\n",
    "        else:\n",
    "            yield (n, value, mu, 0.)"
   ]
  },
  {
   "cell_type": "markdown",
   "metadata": {},
   "source": [
    "Here we make 100000 element data, and run this iterator on it (imagine running this on a time-series being slowly read from disk"
   ]
  },
  {
   "cell_type": "code",
   "execution_count": 17,
   "metadata": {
    "collapsed": true
   },
   "outputs": [],
   "source": [
    "data_with_stats = online_mean_dev(make_data(5, 100000))"
   ]
  },
  {
   "cell_type": "code",
   "execution_count": 18,
   "metadata": {
    "collapsed": false
   },
   "outputs": [
    {
     "name": "stdout",
     "output_type": "stream",
     "text": [
      "(1, 999999998.444112, 999999998.444112, 0.0)\n",
      "(2, 1000000006.4196686, 1000000002.4318902, 5.63957016409285)\n",
      "(3, 999999998.7928293, 1000000001.2188699, 4.507397335749333)\n",
      "(4, 1000000002.9205664, 1000000001.644294, 3.7773487089685847)\n",
      "(5, 1000000003.3606341, 1000000001.9875621, 3.3601245639672808)\n",
      "(6, 999999996.829029, 1000000001.1278065, 3.6697993068551624)\n",
      "(7, 999999999.875172, 1000000000.9488587, 3.383343312377896)\n",
      "(8, 1000000002.0500083, 1000000001.0865024, 3.1564680956928743)\n",
      "(9, 999999999.1330761, 1000000000.8694551, 3.023551811173003)\n",
      "(10, 1000000004.9296687, 1000000001.2754765, 3.1264414492250014)\n"
     ]
    }
   ],
   "source": [
    "for i, d in enumerate(data_with_stats):\n",
    "    if i == 10:\n",
    "        break\n",
    "    print(d)"
   ]
  },
  {
   "cell_type": "markdown",
   "metadata": {},
   "source": [
    "## Q3.\n",
    "\n",
    "Let's do Anomaly detection. Write a routine `is_ok`:\n",
    "\n",
    "```python\n",
    "def is_ok(level, t)\n",
    "```\n",
    "\n",
    "which takes a tuple like the one yielded by your code above and returns True if the value is inbetween `level`-$\\sigma$ of the mean."
   ]
  },
  {
   "cell_type": "code",
   "execution_count": 22,
   "metadata": {
    "collapsed": true
   },
   "outputs": [],
   "source": [
    "#your code here\n",
    "def is_ok(level, t):\n",
    "    n, value, mu, stddev = t\n",
    "    delta = level - stddev\n",
    "    return (value > mu - (delta)) and (value < mu + (delta))"
   ]
  },
  {
   "cell_type": "markdown",
   "metadata": {},
   "source": [
    "We use this function to create a predicate passed through to `itertools.filterfalse` which is then used to obtain an iterator on the anomalies."
   ]
  },
  {
   "cell_type": "code",
   "execution_count": 29,
   "metadata": {
    "collapsed": true
   },
   "outputs": [],
   "source": [
    "from itertools import filterfalse\n",
    "pred = lambda t: is_ok(5, t)\n",
    "data_with_stats = online_mean_dev(make_data(5, 100000))\n",
    "anomalies = filterfalse(pred, data_with_stats)"
   ]
  },
  {
   "cell_type": "markdown",
   "metadata": {},
   "source": [
    "We materialize the anomalies..."
   ]
  },
  {
   "cell_type": "code",
   "execution_count": 30,
   "metadata": {
    "collapsed": false
   },
   "outputs": [
    {
     "data": {
      "text/plain": [
       "34265"
      ]
     },
     "execution_count": 30,
     "metadata": {},
     "output_type": "execute_result"
    }
   ],
   "source": [
    "len(list(anomalies))#materialize"
   ]
  },
  {
   "cell_type": "markdown",
   "metadata": {},
   "source": [
    "## To think of, but not hand in\n",
    "\n",
    "What kinds of anomalies will this algorithm pick up? What kinds would a shorter \"window\" of anomaly detection, like 100 points around the time in question pick? How might you create an algorithm which does window based averaging? (hint: the window size is small compared to the time series size). \n",
    "\n",
    "Finally think a bit of how you might implement all of this in a production environment..remember that data streaming in might get backed up when you handle an anomaly.\n",
    "\n",
    "(Some inspiration might accrue if you look at the docs for `collections.deque`)."
   ]
  },
  {
   "cell_type": "markdown",
   "metadata": {
    "collapsed": true
   },
   "source": []
  }
 ],
 "metadata": {
  "kernelspec": {
   "display_name": "Python 3",
   "language": "python",
   "name": "python3"
  },
  "language_info": {
   "codemirror_mode": {
    "name": "ipython",
    "version": 3
   },
   "file_extension": ".py",
   "mimetype": "text/x-python",
   "name": "python",
   "nbconvert_exporter": "python",
   "pygments_lexer": "ipython3",
   "version": "3.5.1"
  }
 },
 "nbformat": 4,
 "nbformat_minor": 0
}

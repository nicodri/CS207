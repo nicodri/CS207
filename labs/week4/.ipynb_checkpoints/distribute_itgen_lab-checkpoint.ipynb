{
 "cells": [
  {
   "cell_type": "markdown",
   "metadata": {
    "collapsed": true
   },
   "source": [
    "## Q1.\n",
    "\n",
    "Add methods `__iter__` to your project Time Series class to iterate over values, a method `itertimes` to iterate over times, a method `itervalues` to iterate over values, and a method `iteritems` to iterate over time-value pairs. (This is a similar interface to python dictionaries). To test these, check both the types of the results and the answers you expect."
   ]
  },
  {
   "cell_type": "code",
   "execution_count": 1,
   "metadata": {
    "collapsed": true
   },
   "outputs": [],
   "source": [
    "# Here are the implemented functions (do not run this cell its just display them)\n",
    "def __iter__(self):\n",
    "    '''\n",
    "    Iterates over the values array.\n",
    "    '''\n",
    "    for v in self.__valuesseq:\n",
    "        yield v\n",
    "\n",
    "def itervalues(self):\n",
    "    '''\n",
    "    Iterates over the values array.\n",
    "    '''\n",
    "    for v in self.__valuesseq:\n",
    "        yield v\n",
    "\n",
    "def itertimes(self):\n",
    "    '''\n",
    "    Iterates over the times array.\n",
    "    '''\n",
    "    for t in self.__timesseq:\n",
    "        yield t\n",
    "\n",
    "def iteritems(self):\n",
    "    '''\n",
    "    Iterates over the time-values pairs.\n",
    "    '''\n",
    "    for t, v in zip(self.__timesseq, self.__valuesseq):\n",
    "        yield t, v"
   ]
  },
  {
   "cell_type": "code",
   "execution_count": 2,
   "metadata": {
    "collapsed": false
   },
   "outputs": [
    {
     "name": "stdout",
     "output_type": "stream",
     "text": [
      "End\n",
      "<class 'method'>\n",
      "<class 'generator'>\n"
     ]
    }
   ],
   "source": [
    "## Here I actually load the whole code of the TimeSeries to test the method\n",
    "from TimeSeries import *\n",
    "\n",
    "t = [1, 1.5, 2, 2.5, 10]\n",
    "v = [0, 2, -1, 0.5, 0]\n",
    "a = TimeSeries(t, v)\n",
    "\n",
    "# Code to test the functions\n",
    "for i, (time, val) in enumerate(a.iteritems()):\n",
    "    if val != v[i] or time != t[i]:\n",
    "        print (1)\n",
    "        print('Error')\n",
    "for i, val in enumerate(a.itervalues()):\n",
    "    if val != v[i]:\n",
    "        print (2)\n",
    "        print('Error')\n",
    "for i, time in enumerate(a.itertimes()):\n",
    "    if time != t[i]:\n",
    "        print (3)\n",
    "        print('Error')\n",
    "print('End')\n",
    "\n",
    "# Printing the type\n",
    "g = a.iteritems\n",
    "print(type(g))\n",
    "\n",
    "g = a.iteritems()\n",
    "print(type(g))"
   ]
  },
  {
   "cell_type": "markdown",
   "metadata": {},
   "source": [
    "## Q2.\n",
    "\n",
    "An online mean and standard deviation algorithm.\n",
    "\n",
    "Below is a function to generate a potentially infinite stream of 1-D data."
   ]
  },
  {
   "cell_type": "code",
   "execution_count": 3,
   "metadata": {
    "collapsed": false
   },
   "outputs": [],
   "source": [
    "from random import normalvariate, random\n",
    "from itertools import count\n",
    "def make_data(m, stop=None):\n",
    "    for _ in count():\n",
    "        if stop and _ > stop:\n",
    "            break\n",
    "        yield 1.0e09 + normalvariate(0, m*random() )\n",
    "        "
   ]
  },
  {
   "cell_type": "markdown",
   "metadata": {},
   "source": [
    "Here is an implementation of an online mean algorithm..see http://www.johndcook.com/blog/standard_deviation/ and the link to http://www.johndcook.com/blog/2008/09/26/comparing-three-methods-of-computing-standard-deviation/ in-between. (Convince yourselves of the formulas...)"
   ]
  },
  {
   "cell_type": "code",
   "execution_count": 4,
   "metadata": {
    "collapsed": true
   },
   "outputs": [],
   "source": [
    "def online_mean(iterator):\n",
    "    n = 0\n",
    "    mu = 0\n",
    "    for value in iterator:\n",
    "        n += 1\n",
    "        delta = value - mu\n",
    "        mu = mu + delta/n\n",
    "        yield mu"
   ]
  },
  {
   "cell_type": "markdown",
   "metadata": {},
   "source": [
    "We use out generator functions to implement iterators:"
   ]
  },
  {
   "cell_type": "code",
   "execution_count": 5,
   "metadata": {
    "collapsed": false
   },
   "outputs": [
    {
     "data": {
      "text/plain": [
       "[999999999.670653,\n",
       " 1000000003.5760522,\n",
       " 999999992.2407278,\n",
       " 999999999.4329891,\n",
       " 999999999.9863136,\n",
       " 1000000006.8315755,\n",
       " 1000000003.8396275,\n",
       " 999999998.8404036,\n",
       " 1000000000.3271034,\n",
       " 1000000009.1306776,\n",
       " 999999997.028403]"
      ]
     },
     "execution_count": 5,
     "metadata": {},
     "output_type": "execute_result"
    }
   ],
   "source": [
    "g = make_data(5, 10)\n",
    "list(g)"
   ]
  },
  {
   "cell_type": "code",
   "execution_count": 6,
   "metadata": {
    "collapsed": false
   },
   "outputs": [
    {
     "name": "stdout",
     "output_type": "stream",
     "text": [
      "<class 'generator'>\n"
     ]
    },
    {
     "data": {
      "text/plain": [
       "[1000000007.9988532,\n",
       " 1000000003.9452932,\n",
       " 1000000001.2522588,\n",
       " 1000000001.0957898,\n",
       " 1000000001.3313984,\n",
       " 1000000001.047425,\n",
       " 1000000000.9281918,\n",
       " 1000000000.1457396,\n",
       " 1000000000.8073043,\n",
       " 1000000000.8167537,\n",
       " 1000000000.6462301,\n",
       " 1000000000.5940837,\n",
       " 1000000000.2196918,\n",
       " 1000000000.2672426,\n",
       " 1000000000.3745469,\n",
       " 999999999.9942905,\n",
       " 999999999.9529346,\n",
       " 999999999.8902425,\n",
       " 999999999.8784379,\n",
       " 1000000000.1352887,\n",
       " 1000000000.2007787,\n",
       " 1000000000.1925757,\n",
       " 1000000000.0936579,\n",
       " 1000000000.0855848,\n",
       " 999999999.8452822,\n",
       " 999999999.7984871,\n",
       " 999999999.8479804,\n",
       " 999999999.7801603,\n",
       " 999999999.8548682,\n",
       " 999999999.8115469,\n",
       " 999999999.825075,\n",
       " 999999999.8516628,\n",
       " 999999999.8883944,\n",
       " 999999999.8861213,\n",
       " 999999999.7303953,\n",
       " 999999999.9813143,\n",
       " 999999999.981175,\n",
       " 999999999.9573083,\n",
       " 1000000000.0462948,\n",
       " 1000000000.0163344,\n",
       " 1000000000.0353642,\n",
       " 1000000000.0535488,\n",
       " 1000000000.184071,\n",
       " 1000000000.2036647,\n",
       " 1000000000.0840986,\n",
       " 1000000000.0815328,\n",
       " 1000000000.1216321,\n",
       " 1000000000.0836247,\n",
       " 1000000000.059311,\n",
       " 1000000000.0529147,\n",
       " 1000000000.0361998,\n",
       " 999999999.9961094,\n",
       " 1000000000.1072104,\n",
       " 1000000000.0886968,\n",
       " 1000000000.0811315,\n",
       " 1000000000.0795064,\n",
       " 1000000000.0615507,\n",
       " 1000000000.0581735,\n",
       " 1000000000.110908,\n",
       " 1000000000.1045021,\n",
       " 1000000000.0235015,\n",
       " 1000000000.0265045,\n",
       " 999999999.966135,\n",
       " 999999999.9202156,\n",
       " 999999999.9311014,\n",
       " 999999999.8807523,\n",
       " 999999999.8484384,\n",
       " 999999999.8582919,\n",
       " 999999999.8226858,\n",
       " 999999999.8120766,\n",
       " 999999999.8144976,\n",
       " 999999999.8293434,\n",
       " 999999999.8407938,\n",
       " 999999999.8591317,\n",
       " 999999999.8579446,\n",
       " 999999999.894162,\n",
       " 999999999.8961699,\n",
       " 999999999.9274672,\n",
       " 999999999.9516323,\n",
       " 999999999.9570136,\n",
       " 999999999.9795089,\n",
       " 999999999.9792563,\n",
       " 999999999.9428585,\n",
       " 999999999.936112,\n",
       " 999999999.9713819,\n",
       " 999999999.9776113,\n",
       " 999999999.9715395,\n",
       " 999999999.9634553,\n",
       " 999999999.947721,\n",
       " 999999999.9962739,\n",
       " 1000000000.0032332,\n",
       " 1000000000.030597,\n",
       " 1000000000.0122447,\n",
       " 999999999.9887614,\n",
       " 1000000000.0249245,\n",
       " 1000000000.0338408,\n",
       " 999999999.9942313,\n",
       " 999999999.9968024,\n",
       " 1000000000.0037168,\n",
       " 1000000000.0017322,\n",
       " 999999999.9735063]"
      ]
     },
     "execution_count": 6,
     "metadata": {},
     "output_type": "execute_result"
    }
   ],
   "source": [
    "g = online_mean(make_data(5, 100))\n",
    "print(type(g))\n",
    "list(g)"
   ]
  },
  {
   "cell_type": "markdown",
   "metadata": {},
   "source": [
    "### 2.1\n",
    "\n",
    "Implement the standard deviation algorithm as a generator function as\n",
    "\n",
    "```python\n",
    "def online_mean_dev(iterator):\n",
    "    BLA BLA\n",
    "    if n > 1:\n",
    "        stddev = math.sqrt(dev_accum/(n-1))\n",
    "        yield (n, value, mu, stddev)\n",
    "```"
   ]
  },
  {
   "cell_type": "code",
   "execution_count": 7,
   "metadata": {
    "collapsed": false
   },
   "outputs": [],
   "source": [
    "import math\n",
    "\n",
    "# your code here\n",
    "def online_mean_dev(iterator):\n",
    "    dev_accum = 0\n",
    "    mu = 0\n",
    "    n = 0\n",
    "    for value in iterator:\n",
    "        n += 1\n",
    "        mu_new = mu + (value - mu)/n\n",
    "        dev_accum = dev_accum + (value - mu)*(value - mu_new)\n",
    "        mu = mu_new\n",
    "        if n > 1:\n",
    "            stddev = math.sqrt(dev_accum/(n-1))\n",
    "            yield (n, value, mu, stddev)\n",
    "        else:\n",
    "            yield (n, value, mu, 0.)"
   ]
  },
  {
   "cell_type": "markdown",
   "metadata": {},
   "source": [
    "Here we make 100000 element data, and run this iterator on it (imagine running this on a time-series being slowly read from disk"
   ]
  },
  {
   "cell_type": "code",
   "execution_count": 8,
   "metadata": {
    "collapsed": true
   },
   "outputs": [],
   "source": [
    "data_with_stats = online_mean_dev(make_data(5, 100000))"
   ]
  },
  {
   "cell_type": "code",
   "execution_count": 9,
   "metadata": {
    "collapsed": false
   },
   "outputs": [
    {
     "name": "stdout",
     "output_type": "stream",
     "text": [
      "(1, 999999999.3213023, 999999999.3213023, 0.0)\n",
      "(2, 999999999.4373403, 999999999.3793213, 0.0820511896530581)\n",
      "(3, 1000000004.7808492, 1000000001.1798307, 3.1191132142844875)\n",
      "(4, 999999998.8685018, 1000000000.6019984, 2.7966894362332395)\n",
      "(5, 999999995.8638606, 999999999.6543709, 3.2180885507991364)\n",
      "(6, 999999998.3078289, 999999999.4299473, 2.930370460417044)\n",
      "(7, 1000000002.0334815, 999999999.8018807, 2.8503041980293546)\n",
      "(8, 1000000000.1613379, 999999999.8468128, 2.641927391297596)\n",
      "(9, 1000000001.6914351, 1000000000.0517709, 2.5466405176640103)\n",
      "(10, 1000000000.1074076, 1000000000.0573345, 2.401060166419398)\n"
     ]
    }
   ],
   "source": [
    "for i, d in enumerate(data_with_stats):\n",
    "    if i == 10:\n",
    "        break\n",
    "    print(d)"
   ]
  },
  {
   "cell_type": "markdown",
   "metadata": {},
   "source": [
    "## Q3.\n",
    "\n",
    "Let's do Anomaly detection. Write a routine `is_ok`:\n",
    "\n",
    "```python\n",
    "def is_ok(level, t)\n",
    "```\n",
    "\n",
    "which takes a tuple like the one yielded by your code above and returns True if the value is inbetween `level`-$\\sigma$ of the mean."
   ]
  },
  {
   "cell_type": "code",
   "execution_count": 10,
   "metadata": {
    "collapsed": true
   },
   "outputs": [],
   "source": [
    "#your code here\n",
    "def is_ok(level, t):\n",
    "    n, value, mu, stddev = t\n",
    "    delta = level * stddev\n",
    "    return (value > mu - delta) and (value < mu + delta)"
   ]
  },
  {
   "cell_type": "markdown",
   "metadata": {},
   "source": [
    "We use this function to create a predicate passed through to `itertools.filterfalse` which is then used to obtain an iterator on the anomalies."
   ]
  },
  {
   "cell_type": "code",
   "execution_count": 11,
   "metadata": {
    "collapsed": true
   },
   "outputs": [],
   "source": [
    "from itertools import filterfalse\n",
    "pred = lambda t: is_ok(5, t)\n",
    "data_with_stats = online_mean_dev(make_data(5, 100000))\n",
    "anomalies = filterfalse(pred, data_with_stats)"
   ]
  },
  {
   "cell_type": "markdown",
   "metadata": {},
   "source": [
    "We materialize the anomalies..."
   ]
  },
  {
   "cell_type": "code",
   "execution_count": 12,
   "metadata": {
    "collapsed": false
   },
   "outputs": [
    {
     "data": {
      "text/plain": [
       "37"
      ]
     },
     "execution_count": 12,
     "metadata": {},
     "output_type": "execute_result"
    }
   ],
   "source": [
    "len(list(anomalies))#materialize"
   ]
  },
  {
   "cell_type": "markdown",
   "metadata": {},
   "source": [
    "## To think of, but not hand in\n",
    "\n",
    "What kinds of anomalies will this algorithm pick up? What kinds would a shorter \"window\" of anomaly detection, like 100 points around the time in question pick? How might you create an algorithm which does window based averaging? (hint: the window size is small compared to the time series size). \n",
    "\n",
    "Finally think a bit of how you might implement all of this in a production environment..remember that data streaming in might get backed up when you handle an anomaly.\n",
    "\n",
    "(Some inspiration might accrue if you look at the docs for `collections.deque`)."
   ]
  },
  {
   "cell_type": "markdown",
   "metadata": {
    "collapsed": true
   },
   "source": []
  }
 ],
 "metadata": {
  "kernelspec": {
   "display_name": "Python 3",
   "language": "python",
   "name": "python3"
  },
  "language_info": {
   "codemirror_mode": {
    "name": "ipython",
    "version": 3
   },
   "file_extension": ".py",
   "mimetype": "text/x-python",
   "name": "python",
   "nbconvert_exporter": "python",
   "pygments_lexer": "ipython3",
   "version": "3.5.1"
  }
 },
 "nbformat": 4,
 "nbformat_minor": 0
}
